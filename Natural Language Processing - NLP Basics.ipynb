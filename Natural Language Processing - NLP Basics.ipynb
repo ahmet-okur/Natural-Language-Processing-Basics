{
 "cells": [
  {
   "cell_type": "code",
   "execution_count": 2,
   "id": "fcc0c13f",
   "metadata": {},
   "outputs": [],
   "source": [
    "paragraph = '''Google LLC is an American multinational technology \n",
    "company that focuses on artificial intelligence, search engine technology, online advertising, cloud computing, \n",
    "computer software, quantum computing, e-commerce, and consumer electronics. It has been referred to as the \"most\n",
    "powerful company in the world\" and one of the world's most valuable brands due to its\n",
    "market dominance, data collection, and technological advantages in the area of artificial\n",
    "intelligence. It is considered one of the Big Five American information technology \n",
    "companies, alongside Amazon, Apple, Meta, and Microsoft.Google was founded on September , \n",
    "by Larry Page and Sergey Brin while they were PhD students at Stanford University in California. \n",
    "Together they own about 14% of its publicly listed shares and control 56% of the stockholder voting power through\n",
    "super-voting stock. The company went public via an initial public offering (IPO) in 2004.\n",
    "In 2015, Google was reorganized as a wholly owned subsidiary of Alphabet Inc. Google is Alphabet's largest\n",
    "subsidiary and is a holding company for Alphabet's Internet properties and interests. Sundar Pichai\n",
    "was appointed CEO of Google on October 24, 2015, replacing Larry Page, who became the CEO of Alphabet.\n",
    "On December 3, 2019, Pichai also became the CEO of Alphabet.'''"
   ]
  },
  {
   "cell_type": "code",
   "execution_count": 3,
   "id": "56ae1854",
   "metadata": {},
   "outputs": [],
   "source": [
    "import nltk"
   ]
  },
  {
   "cell_type": "code",
   "execution_count": 4,
   "id": "2acaf535",
   "metadata": {
    "collapsed": true
   },
   "outputs": [
    {
     "name": "stderr",
     "output_type": "stream",
     "text": [
      "[nltk_data] Downloading collection 'popular'\n",
      "[nltk_data]    | \n",
      "[nltk_data]    | Downloading package cmudict to\n",
      "[nltk_data]    |     /Users/ahmetokur/nltk_data...\n",
      "[nltk_data]    |   Unzipping corpora/cmudict.zip.\n",
      "[nltk_data]    | Downloading package gazetteers to\n",
      "[nltk_data]    |     /Users/ahmetokur/nltk_data...\n",
      "[nltk_data]    |   Unzipping corpora/gazetteers.zip.\n",
      "[nltk_data]    | Downloading package genesis to\n",
      "[nltk_data]    |     /Users/ahmetokur/nltk_data...\n",
      "[nltk_data]    |   Unzipping corpora/genesis.zip.\n",
      "[nltk_data]    | Downloading package gutenberg to\n",
      "[nltk_data]    |     /Users/ahmetokur/nltk_data...\n",
      "[nltk_data]    |   Unzipping corpora/gutenberg.zip.\n",
      "[nltk_data]    | Downloading package inaugural to\n",
      "[nltk_data]    |     /Users/ahmetokur/nltk_data...\n",
      "[nltk_data]    |   Unzipping corpora/inaugural.zip.\n",
      "[nltk_data]    | Downloading package movie_reviews to\n",
      "[nltk_data]    |     /Users/ahmetokur/nltk_data...\n",
      "[nltk_data]    |   Unzipping corpora/movie_reviews.zip.\n",
      "[nltk_data]    | Downloading package names to\n",
      "[nltk_data]    |     /Users/ahmetokur/nltk_data...\n",
      "[nltk_data]    |   Unzipping corpora/names.zip.\n",
      "[nltk_data]    | Downloading package shakespeare to\n",
      "[nltk_data]    |     /Users/ahmetokur/nltk_data...\n",
      "[nltk_data]    |   Unzipping corpora/shakespeare.zip.\n",
      "[nltk_data]    | Downloading package stopwords to\n",
      "[nltk_data]    |     /Users/ahmetokur/nltk_data...\n",
      "[nltk_data]    |   Unzipping corpora/stopwords.zip.\n",
      "[nltk_data]    | Downloading package treebank to\n",
      "[nltk_data]    |     /Users/ahmetokur/nltk_data...\n",
      "[nltk_data]    |   Unzipping corpora/treebank.zip.\n",
      "[nltk_data]    | Downloading package twitter_samples to\n",
      "[nltk_data]    |     /Users/ahmetokur/nltk_data...\n",
      "[nltk_data]    |   Unzipping corpora/twitter_samples.zip.\n",
      "[nltk_data]    | Downloading package omw to\n",
      "[nltk_data]    |     /Users/ahmetokur/nltk_data...\n",
      "[nltk_data]    |   Unzipping corpora/omw.zip.\n",
      "[nltk_data]    | Downloading package omw-1.4 to\n",
      "[nltk_data]    |     /Users/ahmetokur/nltk_data...\n",
      "[nltk_data]    |   Unzipping corpora/omw-1.4.zip.\n",
      "[nltk_data]    | Downloading package wordnet to\n",
      "[nltk_data]    |     /Users/ahmetokur/nltk_data...\n",
      "[nltk_data]    |   Unzipping corpora/wordnet.zip.\n",
      "[nltk_data]    | Downloading package wordnet2021 to\n",
      "[nltk_data]    |     /Users/ahmetokur/nltk_data...\n",
      "[nltk_data]    |   Unzipping corpora/wordnet2021.zip.\n",
      "[nltk_data]    | Downloading package wordnet31 to\n",
      "[nltk_data]    |     /Users/ahmetokur/nltk_data...\n",
      "[nltk_data]    |   Unzipping corpora/wordnet31.zip.\n",
      "[nltk_data]    | Downloading package wordnet_ic to\n",
      "[nltk_data]    |     /Users/ahmetokur/nltk_data...\n",
      "[nltk_data]    |   Unzipping corpora/wordnet_ic.zip.\n",
      "[nltk_data]    | Downloading package words to\n",
      "[nltk_data]    |     /Users/ahmetokur/nltk_data...\n",
      "[nltk_data]    |   Unzipping corpora/words.zip.\n",
      "[nltk_data]    | Downloading package maxent_ne_chunker to\n",
      "[nltk_data]    |     /Users/ahmetokur/nltk_data...\n",
      "[nltk_data]    |   Unzipping chunkers/maxent_ne_chunker.zip.\n",
      "[nltk_data]    | Downloading package punkt to\n",
      "[nltk_data]    |     /Users/ahmetokur/nltk_data...\n",
      "[nltk_data]    |   Unzipping tokenizers/punkt.zip.\n",
      "[nltk_data]    | Downloading package snowball_data to\n",
      "[nltk_data]    |     /Users/ahmetokur/nltk_data...\n",
      "[nltk_data]    | Downloading package averaged_perceptron_tagger to\n",
      "[nltk_data]    |     /Users/ahmetokur/nltk_data...\n",
      "[nltk_data]    |   Unzipping taggers/averaged_perceptron_tagger.zip.\n",
      "[nltk_data]    | \n",
      "[nltk_data]  Done downloading collection popular\n"
     ]
    },
    {
     "data": {
      "text/plain": [
       "True"
      ]
     },
     "execution_count": 4,
     "metadata": {},
     "output_type": "execute_result"
    }
   ],
   "source": [
    "nltk.download('popular')"
   ]
  },
  {
   "cell_type": "markdown",
   "id": "b2157694",
   "metadata": {},
   "source": [
    "### Tokenization\n",
    "* Process of breaking down a paragraph into smaller chunks of sentences and words"
   ]
  },
  {
   "cell_type": "markdown",
   "id": "249730ae",
   "metadata": {},
   "source": [
    "#### 1. Sentence Tokenization"
   ]
  },
  {
   "cell_type": "code",
   "execution_count": 5,
   "id": "c3ed9bf4",
   "metadata": {},
   "outputs": [],
   "source": [
    "from nltk.tokenize import sent_tokenize\n"
   ]
  },
  {
   "cell_type": "code",
   "execution_count": 6,
   "id": "43e932b7",
   "metadata": {},
   "outputs": [
    {
     "data": {
      "text/plain": [
       "['Google LLC is an American multinational technology \\ncompany that focuses on artificial intelligence, search engine technology, online advertising, cloud computing, \\ncomputer software, quantum computing, e-commerce, and consumer electronics.',\n",
       " 'It has been referred to as the \"most\\npowerful company in the world\" and one of the world\\'s most valuable brands due to its\\nmarket dominance, data collection, and technological advantages in the area of artificial\\nintelligence.',\n",
       " 'It is considered one of the Big Five American information technology \\ncompanies, alongside Amazon, Apple, Meta, and Microsoft.Google was founded on September , \\nby Larry Page and Sergey Brin while they were PhD students at Stanford University in California.',\n",
       " 'Together they own about 14% of its publicly listed shares and control 56% of the stockholder voting power through\\nsuper-voting stock.',\n",
       " 'The company went public via an initial public offering (IPO) in 2004.',\n",
       " \"In 2015, Google was reorganized as a wholly owned subsidiary of Alphabet Inc. Google is Alphabet's largest\\nsubsidiary and is a holding company for Alphabet's Internet properties and interests.\",\n",
       " 'Sundar Pichai\\nwas appointed CEO of Google on October 24, 2015, replacing Larry Page, who became the CEO of Alphabet.',\n",
       " 'On December 3, 2019, Pichai also became the CEO of Alphabet.']"
      ]
     },
     "execution_count": 6,
     "metadata": {},
     "output_type": "execute_result"
    }
   ],
   "source": [
    "tokenized_text = sent_tokenize(paragraph)\n",
    "tokenized_text\n"
   ]
  },
  {
   "cell_type": "markdown",
   "id": "37b8f191",
   "metadata": {},
   "source": [
    "#### 2. Word Tokenization"
   ]
  },
  {
   "cell_type": "code",
   "execution_count": 7,
   "id": "7453b5db",
   "metadata": {},
   "outputs": [],
   "source": [
    "from nltk.tokenize import word_tokenize\n"
   ]
  },
  {
   "cell_type": "code",
   "execution_count": 10,
   "id": "a8ff752a",
   "metadata": {
    "collapsed": true
   },
   "outputs": [
    {
     "data": {
      "text/plain": [
       "['Google',\n",
       " 'LLC',\n",
       " 'is',\n",
       " 'an',\n",
       " 'American',\n",
       " 'multinational',\n",
       " 'technology',\n",
       " 'company',\n",
       " 'that',\n",
       " 'focuses',\n",
       " 'on',\n",
       " 'artificial',\n",
       " 'intelligence',\n",
       " ',',\n",
       " 'search',\n",
       " 'engine',\n",
       " 'technology',\n",
       " ',',\n",
       " 'online',\n",
       " 'advertising',\n",
       " ',',\n",
       " 'cloud',\n",
       " 'computing',\n",
       " ',',\n",
       " 'computer',\n",
       " 'software',\n",
       " ',',\n",
       " 'quantum',\n",
       " 'computing',\n",
       " ',',\n",
       " 'e-commerce',\n",
       " ',',\n",
       " 'and',\n",
       " 'consumer',\n",
       " 'electronics',\n",
       " '.',\n",
       " 'It',\n",
       " 'has',\n",
       " 'been',\n",
       " 'referred',\n",
       " 'to',\n",
       " 'as',\n",
       " 'the',\n",
       " '``',\n",
       " 'most',\n",
       " 'powerful',\n",
       " 'company',\n",
       " 'in',\n",
       " 'the',\n",
       " 'world',\n",
       " \"''\",\n",
       " 'and',\n",
       " 'one',\n",
       " 'of',\n",
       " 'the',\n",
       " 'world',\n",
       " \"'s\",\n",
       " 'most',\n",
       " 'valuable',\n",
       " 'brands',\n",
       " 'due',\n",
       " 'to',\n",
       " 'its',\n",
       " 'market',\n",
       " 'dominance',\n",
       " ',',\n",
       " 'data',\n",
       " 'collection',\n",
       " ',',\n",
       " 'and',\n",
       " 'technological',\n",
       " 'advantages',\n",
       " 'in',\n",
       " 'the',\n",
       " 'area',\n",
       " 'of',\n",
       " 'artificial',\n",
       " 'intelligence',\n",
       " '.',\n",
       " 'It',\n",
       " 'is',\n",
       " 'considered',\n",
       " 'one',\n",
       " 'of',\n",
       " 'the',\n",
       " 'Big',\n",
       " 'Five',\n",
       " 'American',\n",
       " 'information',\n",
       " 'technology',\n",
       " 'companies',\n",
       " ',',\n",
       " 'alongside',\n",
       " 'Amazon',\n",
       " ',',\n",
       " 'Apple',\n",
       " ',',\n",
       " 'Meta',\n",
       " ',',\n",
       " 'and',\n",
       " 'Microsoft.Google',\n",
       " 'was',\n",
       " 'founded',\n",
       " 'on',\n",
       " 'September',\n",
       " ',',\n",
       " 'by',\n",
       " 'Larry',\n",
       " 'Page',\n",
       " 'and',\n",
       " 'Sergey',\n",
       " 'Brin',\n",
       " 'while',\n",
       " 'they',\n",
       " 'were',\n",
       " 'PhD',\n",
       " 'students',\n",
       " 'at',\n",
       " 'Stanford',\n",
       " 'University',\n",
       " 'in',\n",
       " 'California',\n",
       " '.',\n",
       " 'Together',\n",
       " 'they',\n",
       " 'own',\n",
       " 'about',\n",
       " '14',\n",
       " '%',\n",
       " 'of',\n",
       " 'its',\n",
       " 'publicly',\n",
       " 'listed',\n",
       " 'shares',\n",
       " 'and',\n",
       " 'control',\n",
       " '56',\n",
       " '%',\n",
       " 'of',\n",
       " 'the',\n",
       " 'stockholder',\n",
       " 'voting',\n",
       " 'power',\n",
       " 'through',\n",
       " 'super-voting',\n",
       " 'stock',\n",
       " '.',\n",
       " 'The',\n",
       " 'company',\n",
       " 'went',\n",
       " 'public',\n",
       " 'via',\n",
       " 'an',\n",
       " 'initial',\n",
       " 'public',\n",
       " 'offering',\n",
       " '(',\n",
       " 'IPO',\n",
       " ')',\n",
       " 'in',\n",
       " '2004',\n",
       " '.',\n",
       " 'In',\n",
       " '2015',\n",
       " ',',\n",
       " 'Google',\n",
       " 'was',\n",
       " 'reorganized',\n",
       " 'as',\n",
       " 'a',\n",
       " 'wholly',\n",
       " 'owned',\n",
       " 'subsidiary',\n",
       " 'of',\n",
       " 'Alphabet',\n",
       " 'Inc.',\n",
       " 'Google',\n",
       " 'is',\n",
       " 'Alphabet',\n",
       " \"'s\",\n",
       " 'largest',\n",
       " 'subsidiary',\n",
       " 'and',\n",
       " 'is',\n",
       " 'a',\n",
       " 'holding',\n",
       " 'company',\n",
       " 'for',\n",
       " 'Alphabet',\n",
       " \"'s\",\n",
       " 'Internet',\n",
       " 'properties',\n",
       " 'and',\n",
       " 'interests',\n",
       " '.',\n",
       " 'Sundar',\n",
       " 'Pichai',\n",
       " 'was',\n",
       " 'appointed',\n",
       " 'CEO',\n",
       " 'of',\n",
       " 'Google',\n",
       " 'on',\n",
       " 'October',\n",
       " '24',\n",
       " ',',\n",
       " '2015',\n",
       " ',',\n",
       " 'replacing',\n",
       " 'Larry',\n",
       " 'Page',\n",
       " ',',\n",
       " 'who',\n",
       " 'became',\n",
       " 'the',\n",
       " 'CEO',\n",
       " 'of',\n",
       " 'Alphabet',\n",
       " '.',\n",
       " 'On',\n",
       " 'December',\n",
       " '3',\n",
       " ',',\n",
       " '2019',\n",
       " ',',\n",
       " 'Pichai',\n",
       " 'also',\n",
       " 'became',\n",
       " 'the',\n",
       " 'CEO',\n",
       " 'of',\n",
       " 'Alphabet',\n",
       " '.']"
      ]
     },
     "execution_count": 10,
     "metadata": {},
     "output_type": "execute_result"
    }
   ],
   "source": [
    "tokenized_words = word_tokenize(paragraph)\n",
    "tokenized_words"
   ]
  },
  {
   "cell_type": "markdown",
   "id": "c9070cbb",
   "metadata": {},
   "source": [
    "#### NLP Tokenization & Removing Punctiations \n",
    "3. Regular Expressions"
   ]
  },
  {
   "cell_type": "code",
   "execution_count": 14,
   "id": "1b81850d",
   "metadata": {},
   "outputs": [],
   "source": [
    "from nltk.tokenize import RegexpTokenizer\n",
    "tokenizer = RegexpTokenizer(r'\\w+') # \\w{3} means we target only the 3 letter words\n",
    "new_words = tokenizer.tokenize(paragraph)\n",
    "# This way we dont take unwanted elements like ?, , , . \n",
    "# https://cheatography.com/davechild/cheat-sheets/regular-expressions/\n"
   ]
  },
  {
   "cell_type": "markdown",
   "id": "cf6ecfc6",
   "metadata": {},
   "source": []
  },
  {
   "cell_type": "code",
   "execution_count": 15,
   "id": "0ffb3ba6",
   "metadata": {},
   "outputs": [
    {
     "name": "stdout",
     "output_type": "stream",
     "text": [
      "['Google', 'LLC', 'is', 'an', 'American', 'multinational', 'technology', 'company', 'that', 'focuses', 'on', 'artificial', 'intelligence', 'search', 'engine', 'technology', 'online', 'advertising', 'cloud', 'computing', 'computer', 'software', 'quantum', 'computing', 'e', 'commerce', 'and', 'consumer', 'electronics', 'It', 'has', 'been', 'referred', 'to', 'as', 'the', 'most', 'powerful', 'company', 'in', 'the', 'world', 'and', 'one', 'of', 'the', 'world', 's', 'most', 'valuable', 'brands', 'due', 'to', 'its', 'market', 'dominance', 'data', 'collection', 'and', 'technological', 'advantages', 'in', 'the', 'area', 'of', 'artificial', 'intelligence', 'It', 'is', 'considered', 'one', 'of', 'the', 'Big', 'Five', 'American', 'information', 'technology', 'companies', 'alongside', 'Amazon', 'Apple', 'Meta', 'and', 'Microsoft', 'Google', 'was', 'founded', 'on', 'September', 'by', 'Larry', 'Page', 'and', 'Sergey', 'Brin', 'while', 'they', 'were', 'PhD', 'students', 'at', 'Stanford', 'University', 'in', 'California', 'Together', 'they', 'own', 'about', '14', 'of', 'its', 'publicly', 'listed', 'shares', 'and', 'control', '56', 'of', 'the', 'stockholder', 'voting', 'power', 'through', 'super', 'voting', 'stock', 'The', 'company', 'went', 'public', 'via', 'an', 'initial', 'public', 'offering', 'IPO', 'in', '2004', 'In', '2015', 'Google', 'was', 'reorganized', 'as', 'a', 'wholly', 'owned', 'subsidiary', 'of', 'Alphabet', 'Inc', 'Google', 'is', 'Alphabet', 's', 'largest', 'subsidiary', 'and', 'is', 'a', 'holding', 'company', 'for', 'Alphabet', 's', 'Internet', 'properties', 'and', 'interests', 'Sundar', 'Pichai', 'was', 'appointed', 'CEO', 'of', 'Google', 'on', 'October', '24', '2015', 'replacing', 'Larry', 'Page', 'who', 'became', 'the', 'CEO', 'of', 'Alphabet', 'On', 'December', '3', '2019', 'Pichai', 'also', 'became', 'the', 'CEO', 'of', 'Alphabet']\n"
     ]
    }
   ],
   "source": [
    "print(new_words)\n"
   ]
  },
  {
   "cell_type": "markdown",
   "id": "ee6d0adf",
   "metadata": {},
   "source": [
    "#### Frequency Distribution"
   ]
  },
  {
   "cell_type": "code",
   "execution_count": 16,
   "id": "bc55be32",
   "metadata": {},
   "outputs": [],
   "source": [
    "from nltk.probability import FreqDist\n",
    "fdist = FreqDist(new_words)\n"
   ]
  },
  {
   "cell_type": "code",
   "execution_count": 17,
   "id": "41f390a4",
   "metadata": {},
   "outputs": [
    {
     "data": {
      "text/plain": [
       "FreqDist({'of': 9, 'and': 8, 'the': 8, 'Google': 5, 'Alphabet': 5, 'is': 4, 'company': 4, 'in': 4, 'technology': 3, 'on': 3, ...})"
      ]
     },
     "execution_count": 17,
     "metadata": {},
     "output_type": "execute_result"
    }
   ],
   "source": [
    "fdist"
   ]
  },
  {
   "cell_type": "code",
   "execution_count": 25,
   "id": "6c7e822a",
   "metadata": {},
   "outputs": [
    {
     "data": {
      "image/png": "[encoded data removed]",
      "text/plain": [
       "<Figure size 1800x360 with 1 Axes>"
      ]
     },
     "metadata": {
      "needs_background": "light"
     },
     "output_type": "display_data"
    }
   ],
   "source": [
    "import matplotlib.pyplot as plt\n",
    "plt.figure(figsize = (25, 5))\n",
    "fdist.plot()\n",
    "plt.show()"
   ]
  },
  {
   "cell_type": "markdown",
   "id": "caf23884",
   "metadata": {},
   "source": [
    "#### 5. Lowecase Paragraph/Sentences"
   ]
  },
  {
   "cell_type": "code",
   "execution_count": 26,
   "id": "614dc34d",
   "metadata": {},
   "outputs": [],
   "source": [
    "# lower()\n",
    "paragraph = paragraph.lower()"
   ]
  },
  {
   "cell_type": "code",
   "execution_count": 27,
   "id": "c7d32bfc",
   "metadata": {},
   "outputs": [
    {
     "name": "stdout",
     "output_type": "stream",
     "text": [
      "['google', 'llc', 'is', 'an', 'american', 'multinational', 'technology', 'company', 'that', 'focuses', 'on', 'artificial', 'intelligence', 'search', 'engine', 'technology', 'online', 'advertising', 'cloud', 'computing', 'computer', 'software', 'quantum', 'computing', 'e', 'commerce', 'and', 'consumer', 'electronics', 'it', 'has', 'been', 'referred', 'to', 'as', 'the', 'most', 'powerful', 'company', 'in', 'the', 'world', 'and', 'one', 'of', 'the', 'world', 's', 'most', 'valuable', 'brands', 'due', 'to', 'its', 'market', 'dominance', 'data', 'collection', 'and', 'technological', 'advantages', 'in', 'the', 'area', 'of', 'artificial', 'intelligence', 'it', 'is', 'considered', 'one', 'of', 'the', 'big', 'five', 'american', 'information', 'technology', 'companies', 'alongside', 'amazon', 'apple', 'meta', 'and', 'microsoft', 'google', 'was', 'founded', 'on', 'september', 'by', 'larry', 'page', 'and', 'sergey', 'brin', 'while', 'they', 'were', 'phd', 'students', 'at', 'stanford', 'university', 'in', 'california', 'together', 'they', 'own', 'about', '14', 'of', 'its', 'publicly', 'listed', 'shares', 'and', 'control', '56', 'of', 'the', 'stockholder', 'voting', 'power', 'through', 'super', 'voting', 'stock', 'the', 'company', 'went', 'public', 'via', 'an', 'initial', 'public', 'offering', 'ipo', 'in', '2004', 'in', '2015', 'google', 'was', 'reorganized', 'as', 'a', 'wholly', 'owned', 'subsidiary', 'of', 'alphabet', 'inc', 'google', 'is', 'alphabet', 's', 'largest', 'subsidiary', 'and', 'is', 'a', 'holding', 'company', 'for', 'alphabet', 's', 'internet', 'properties', 'and', 'interests', 'sundar', 'pichai', 'was', 'appointed', 'ceo', 'of', 'google', 'on', 'october', '24', '2015', 'replacing', 'larry', 'page', 'who', 'became', 'the', 'ceo', 'of', 'alphabet', 'on', 'december', '3', '2019', 'pichai', 'also', 'became', 'the', 'ceo', 'of', 'alphabet']\n"
     ]
    }
   ],
   "source": [
    "tokenizer = RegexpTokenizer(r'\\w+')\n",
    "new_words = tokenizer.tokenize(paragraph)\n",
    "print(new_words)\n"
   ]
  },
  {
   "cell_type": "markdown",
   "id": "f2c566ff",
   "metadata": {},
   "source": [
    "#### 6. Removing Stopwords \n",
    "* on , of ..."
   ]
  },
  {
   "cell_type": "code",
   "execution_count": 32,
   "id": "13a91140",
   "metadata": {},
   "outputs": [
    {
     "name": "stdout",
     "output_type": "stream",
     "text": [
      "['i', 'me', 'my', 'myself', 'we', 'our', 'ours', 'ourselves', 'you', \"you're\", \"you've\", \"you'll\", \"you'd\", 'your', 'yours', 'yourself', 'yourselves', 'he', 'him', 'his', 'himself', 'she', \"she's\", 'her', 'hers', 'herself', 'it', \"it's\", 'its', 'itself', 'they', 'them', 'their', 'theirs', 'themselves', 'what', 'which', 'who', 'whom', 'this', 'that', \"that'll\", 'these', 'those', 'am', 'is', 'are', 'was', 'were', 'be', 'been', 'being', 'have', 'has', 'had', 'having', 'do', 'does', 'did', 'doing', 'a', 'an', 'the', 'and', 'but', 'if', 'or', 'because', 'as', 'until', 'while', 'of', 'at', 'by', 'for', 'with', 'about', 'against', 'between', 'into', 'through', 'during', 'before', 'after', 'above', 'below', 'to', 'from', 'up', 'down', 'in', 'out', 'on', 'off', 'over', 'under', 'again', 'further', 'then', 'once', 'here', 'there', 'when', 'where', 'why', 'how', 'all', 'any', 'both', 'each', 'few', 'more', 'most', 'other', 'some', 'such', 'no', 'nor', 'not', 'only', 'own', 'same', 'so', 'than', 'too', 'very', 's', 't', 'can', 'will', 'just', 'don', \"don't\", 'should', \"should've\", 'now', 'd', 'll', 'm', 'o', 're', 've', 'y', 'ain', 'aren', \"aren't\", 'couldn', \"couldn't\", 'didn', \"didn't\", 'doesn', \"doesn't\", 'hadn', \"hadn't\", 'hasn', \"hasn't\", 'haven', \"haven't\", 'isn', \"isn't\", 'ma', 'mightn', \"mightn't\", 'mustn', \"mustn't\", 'needn', \"needn't\", 'shan', \"shan't\", 'shouldn', \"shouldn't\", 'wasn', \"wasn't\", 'weren', \"weren't\", 'won', \"won't\", 'wouldn', \"wouldn't\"]\n"
     ]
    }
   ],
   "source": [
    "from nltk.corpus import stopwords\n",
    "stop_words = list(stopwords.words('english')) # other languages: european languages\n",
    "# List of stopwords\n",
    "print(stop_words)\n"
   ]
  },
  {
   "cell_type": "code",
   "execution_count": 33,
   "id": "ab26e89f",
   "metadata": {},
   "outputs": [],
   "source": [
    "filtered_words = []\n",
    "for w in new_words:\n",
    "    if w not in stop_words:\n",
    "        filtered_words.append(w)\n"
   ]
  },
  {
   "cell_type": "code",
   "execution_count": 34,
   "id": "61550a67",
   "metadata": {},
   "outputs": [
    {
     "name": "stdout",
     "output_type": "stream",
     "text": [
      "['google', 'llc', 'american', 'multinational', 'technology', 'company', 'focuses', 'artificial', 'intelligence', 'search', 'engine', 'technology', 'online', 'advertising', 'cloud', 'computing', 'computer', 'software', 'quantum', 'computing', 'e', 'commerce', 'consumer', 'electronics', 'referred', 'powerful', 'company', 'world', 'one', 'world', 'valuable', 'brands', 'due', 'market', 'dominance', 'data', 'collection', 'technological', 'advantages', 'area', 'artificial', 'intelligence', 'considered', 'one', 'big', 'five', 'american', 'information', 'technology', 'companies', 'alongside', 'amazon', 'apple', 'meta', 'microsoft', 'google', 'founded', 'september', 'larry', 'page', 'sergey', 'brin', 'phd', 'students', 'stanford', 'university', 'california', 'together', '14', 'publicly', 'listed', 'shares', 'control', '56', 'stockholder', 'voting', 'power', 'super', 'voting', 'stock', 'company', 'went', 'public', 'via', 'initial', 'public', 'offering', 'ipo', '2004', '2015', 'google', 'reorganized', 'wholly', 'owned', 'subsidiary', 'alphabet', 'inc', 'google', 'alphabet', 'largest', 'subsidiary', 'holding', 'company', 'alphabet', 'internet', 'properties', 'interests', 'sundar', 'pichai', 'appointed', 'ceo', 'google', 'october', '24', '2015', 'replacing', 'larry', 'page', 'became', 'ceo', 'alphabet', 'december', '3', '2019', 'pichai', 'also', 'became', 'ceo', 'alphabet']\n"
     ]
    }
   ],
   "source": [
    "print(filtered_words)\n"
   ]
  },
  {
   "cell_type": "markdown",
   "id": "40bac9a4",
   "metadata": {},
   "source": [
    "#### 7. Regular Expression to Remove Numerical Values\n"
   ]
  },
  {
   "cell_type": "code",
   "execution_count": 35,
   "id": "9f325706",
   "metadata": {},
   "outputs": [],
   "source": [
    "import re\n",
    "cleaned_words = []\n",
    "for w in filtered_words:\n",
    "    text = re.sub(r'\\d', '', w)\n",
    "    cleaned_words.append(text)"
   ]
  },
  {
   "cell_type": "code",
   "execution_count": 37,
   "id": "a3ee75b2",
   "metadata": {},
   "outputs": [
    {
     "name": "stdout",
     "output_type": "stream",
     "text": [
      "['google', 'llc', 'american', 'multinational', 'technology', 'company', 'focuses', 'artificial', 'intelligence', 'search', 'engine', 'technology', 'online', 'advertising', 'cloud', 'computing', 'computer', 'software', 'quantum', 'computing', 'e', 'commerce', 'consumer', 'electronics', 'referred', 'powerful', 'company', 'world', 'one', 'world', 'valuable', 'brands', 'due', 'market', 'dominance', 'data', 'collection', 'technological', 'advantages', 'area', 'artificial', 'intelligence', 'considered', 'one', 'big', 'five', 'american', 'information', 'technology', 'companies', 'alongside', 'amazon', 'apple', 'meta', 'microsoft', 'google', 'founded', 'september', 'larry', 'page', 'sergey', 'brin', 'phd', 'students', 'stanford', 'university', 'california', 'together', '', 'publicly', 'listed', 'shares', 'control', '', 'stockholder', 'voting', 'power', 'super', 'voting', 'stock', 'company', 'went', 'public', 'via', 'initial', 'public', 'offering', 'ipo', '', '', 'google', 'reorganized', 'wholly', 'owned', 'subsidiary', 'alphabet', 'inc', 'google', 'alphabet', 'largest', 'subsidiary', 'holding', 'company', 'alphabet', 'internet', 'properties', 'interests', 'sundar', 'pichai', 'appointed', 'ceo', 'google', 'october', '', '', 'replacing', 'larry', 'page', 'became', 'ceo', 'alphabet', 'december', '', '', 'pichai', 'also', 'became', 'ceo', 'alphabet']\n"
     ]
    }
   ],
   "source": [
    "print(cleaned_words)"
   ]
  },
  {
   "cell_type": "markdown",
   "id": "2df7e515",
   "metadata": {},
   "source": [
    "#### Lexicon Normalization\n",
    "* Lemmatisation - Reduce words to their base/root form. This is lingustically correct lemmas."
   ]
  },
  {
   "cell_type": "code",
   "execution_count": 38,
   "id": "f2a614e5",
   "metadata": {},
   "outputs": [],
   "source": [
    "# Lemmatisation\n",
    "from nltk.stem.wordnet import WordNetLemmatizer\n",
    "lem = WordNetLemmatizer()\n"
   ]
  },
  {
   "cell_type": "code",
   "execution_count": 39,
   "id": "4b7765bc",
   "metadata": {},
   "outputs": [
    {
     "data": {
      "text/plain": [
       "'love'"
      ]
     },
     "execution_count": 39,
     "metadata": {},
     "output_type": "execute_result"
    }
   ],
   "source": [
    "# word , verb or noun\n",
    "lem.lemmatize(\"loving\", 'v')\n"
   ]
  },
  {
   "cell_type": "code",
   "execution_count": 40,
   "id": "f63819f7",
   "metadata": {},
   "outputs": [
    {
     "data": {
      "text/plain": [
       "'foot'"
      ]
     },
     "execution_count": 40,
     "metadata": {},
     "output_type": "execute_result"
    }
   ],
   "source": [
    "# POS(Part of Speech Tagging) , Here word is Noun\n",
    "lem.lemmatize(\"feet\", 'n')\n"
   ]
  },
  {
   "cell_type": "code",
   "execution_count": 41,
   "id": "9d21af86",
   "metadata": {},
   "outputs": [
    {
     "data": {
      "text/plain": [
       "'cactus'"
      ]
     },
     "execution_count": 41,
     "metadata": {},
     "output_type": "execute_result"
    }
   ],
   "source": [
    "lem.lemmatize(\"cacti\", 'n')\n"
   ]
  },
  {
   "cell_type": "code",
   "execution_count": 43,
   "id": "9043c2b4",
   "metadata": {},
   "outputs": [
    {
     "data": {
      "text/plain": [
       "'buy'"
      ]
     },
     "execution_count": 43,
     "metadata": {},
     "output_type": "execute_result"
    }
   ],
   "source": [
    "lem.lemmatize(\"bought\", 'v')\n"
   ]
  },
  {
   "cell_type": "markdown",
   "id": "77d91a3d",
   "metadata": {},
   "source": [
    "#### Stemming\n",
    "    * Process of chopping off affixes like 's', 'es', 'ing', 'ings' etc. from words.\n"
   ]
  },
  {
   "cell_type": "code",
   "execution_count": 44,
   "id": "043c99db",
   "metadata": {},
   "outputs": [],
   "source": [
    "# Stemming\n",
    "from nltk.stem import PorterStemmer\n",
    "pstem = PorterStemmer()\n",
    "pstem = PorterStemmer()\n"
   ]
  },
  {
   "cell_type": "code",
   "execution_count": 45,
   "id": "1483951b",
   "metadata": {},
   "outputs": [
    {
     "data": {
      "text/plain": [
       "'buy'"
      ]
     },
     "execution_count": 45,
     "metadata": {},
     "output_type": "execute_result"
    }
   ],
   "source": [
    "# Removing affixes like 'ings'\n",
    "pstem.stem('buyings')\n"
   ]
  },
  {
   "cell_type": "code",
   "execution_count": 46,
   "id": "ec53f12a",
   "metadata": {},
   "outputs": [
    {
     "data": {
      "text/plain": [
       "'trouser'"
      ]
     },
     "execution_count": 46,
     "metadata": {},
     "output_type": "execute_result"
    }
   ],
   "source": [
    "pstem.stem('trousers')\n"
   ]
  },
  {
   "cell_type": "code",
   "execution_count": 48,
   "id": "3e807541",
   "metadata": {},
   "outputs": [
    {
     "data": {
      "text/plain": [
       "'went'"
      ]
     },
     "execution_count": 48,
     "metadata": {},
     "output_type": "execute_result"
    }
   ],
   "source": [
    "pstem.stem('went')\n",
    "# it is different from Lemmatisation"
   ]
  },
  {
   "cell_type": "code",
   "execution_count": 49,
   "id": "e6ac9328",
   "metadata": {},
   "outputs": [],
   "source": [
    "filtered_words\n",
    "cleaned_words = []\n",
    "for w in filtered_words:\n",
    "    lem = WordNetLemmatizer()\n",
    "    words = lem.lemmatize(w, 'v')\n",
    "    words = lem.lemmatize(words, 'n')\n",
    "    cleaned_words.append(words)\n"
   ]
  },
  {
   "cell_type": "code",
   "execution_count": 50,
   "id": "fd54b49c",
   "metadata": {},
   "outputs": [
    {
     "name": "stdout",
     "output_type": "stream",
     "text": [
      "['google', 'llc', 'american', 'multinational', 'technology', 'company', 'focus', 'artificial', 'intelligence', 'search', 'engine', 'technology', 'online', 'advertise', 'cloud', 'compute', 'computer', 'software', 'quantum', 'compute', 'e', 'commerce', 'consumer', 'electronics', 'refer', 'powerful', 'company', 'world', 'one', 'world', 'valuable', 'brand', 'due', 'market', 'dominance', 'data', 'collection', 'technological', 'advantage', 'area', 'artificial', 'intelligence', 'consider', 'one', 'big', 'five', 'american', 'information', 'technology', 'company', 'alongside', 'amazon', 'apple', 'meta', 'microsoft', 'google', 'found', 'september', 'larry', 'page', 'sergey', 'brin', 'phd', 'student', 'stanford', 'university', 'california', 'together', '14', 'publicly', 'list', 'share', 'control', '56', 'stockholder', 'vote', 'power', 'super', 'vote', 'stock', 'company', 'go', 'public', 'via', 'initial', 'public', 'offer', 'ipo', '2004', '2015', 'google', 'reorganize', 'wholly', 'own', 'subsidiary', 'alphabet', 'inc', 'google', 'alphabet', 'largest', 'subsidiary', 'hold', 'company', 'alphabet', 'internet', 'property', 'interest', 'sundar', 'pichai', 'appoint', 'ceo', 'google', 'october', '24', '2015', 'replace', 'larry', 'page', 'become', 'ceo', 'alphabet', 'december', '3', '2019', 'pichai', 'also', 'become', 'ceo', 'alphabet']\n"
     ]
    }
   ],
   "source": [
    "print(cleaned_words)"
   ]
  },
  {
   "cell_type": "code",
   "execution_count": 51,
   "id": "540bb891",
   "metadata": {},
   "outputs": [],
   "source": [
    "from nltk.probability import FreqDist\n",
    "fdist = FreqDist(cleaned_words)\n"
   ]
  },
  {
   "cell_type": "code",
   "execution_count": 52,
   "id": "43aaafc2",
   "metadata": {},
   "outputs": [
    {
     "data": {
      "image/png": "[encoded data removed]",
      "text/plain": [
       "<Figure size 1800x360 with 1 Axes>"
      ]
     },
     "metadata": {
      "needs_background": "light"
     },
     "output_type": "display_data"
    }
   ],
   "source": [
    "import matplotlib.pyplot as plt\n",
    "plt.figure(figsize = (25, 5))\n",
    "fdist.plot()\n",
    "plt.show()"
   ]
  },
  {
   "cell_type": "markdown",
   "id": "39feec26",
   "metadata": {},
   "source": [
    "### NLP Using Sklearn Package"
   ]
  },
  {
   "cell_type": "code",
   "execution_count": 54,
   "id": "d55b382f",
   "metadata": {},
   "outputs": [],
   "source": [
    "from sklearn.feature_extraction.text import CountVectorizer\n",
    "# converting words into numbers"
   ]
  },
  {
   "cell_type": "code",
   "execution_count": 55,
   "id": "883fb2cc",
   "metadata": {},
   "outputs": [],
   "source": [
    "from sklearn.feature_extraction.text import CountVectorizer\n"
   ]
  },
  {
   "cell_type": "code",
   "execution_count": 56,
   "id": "f5832fc2",
   "metadata": {},
   "outputs": [
    {
     "data": {
      "text/plain": [
       "CountVectorizer()"
      ]
     },
     "execution_count": 56,
     "metadata": {},
     "output_type": "execute_result"
    }
   ],
   "source": [
    "vectorizer = CountVectorizer()\n",
    "# tokenize & build text vocab\n",
    "vectorizer.fit(tokenized_text)\n"
   ]
  },
  {
   "cell_type": "code",
   "execution_count": 66,
   "id": "e70a395b",
   "metadata": {},
   "outputs": [
    {
     "name": "stdout",
     "output_type": "stream",
     "text": [
      "{'google': 50, 'llc': 67, 'is': 61, 'an': 14, 'american': 13, 'multinational': 72, 'technology': 106, 'company': 34, 'that': 107, 'focuses': 47, 'on': 76, 'artificial': 19, 'intelligence': 57, 'search': 93, 'engine': 45, 'online': 78, 'advertising': 8, 'cloud': 30, 'computing': 36, 'computer': 35, 'software': 97, 'quantum': 89, 'commerce': 32, 'and': 15, 'consumer': 38, 'electronics': 44, 'it': 62, 'has': 51, 'been': 23, 'referred': 90, 'to': 111, 'as': 20, 'the': 108, 'most': 71, 'powerful': 85, 'in': 53, 'world': 123, 'one': 77, 'of': 74, 'valuable': 114, 'brands': 25, 'due': 43, 'its': 63, 'market': 68, 'dominance': 42, 'data': 40, 'collection': 31, 'technological': 105, 'advantages': 7, 'area': 18, 'considered': 37, 'big': 24, 'five': 46, 'information': 55, 'companies': 33, 'alongside': 9, 'amazon': 12, 'apple': 16, 'meta': 69, 'microsoft': 70, 'was': 117, 'founded': 49, 'september': 94, 'by': 27, 'larry': 65, 'page': 81, 'sergey': 95, 'brin': 26, 'while': 120, 'they': 109, 'were': 119, 'phd': 82, 'students': 101, 'at': 21, 'stanford': 98, 'university': 113, 'california': 28, 'together': 112, 'own': 79, 'about': 6, '14': 0, 'publicly': 88, 'listed': 66, 'shares': 96, 'control': 39, '56': 5, 'stockholder': 100, 'voting': 116, 'power': 84, 'through': 110, 'super': 104, 'stock': 99, 'went': 118, 'public': 87, 'via': 115, 'initial': 56, 'offering': 75, 'ipo': 60, '2004': 1, '2015': 2, 'reorganized': 91, 'wholly': 122, 'owned': 80, 'subsidiary': 102, 'alphabet': 10, 'inc': 54, 'largest': 64, 'holding': 52, 'for': 48, 'internet': 59, 'properties': 86, 'interests': 58, 'sundar': 103, 'pichai': 83, 'appointed': 17, 'ceo': 29, 'october': 73, '24': 4, 'replacing': 92, 'who': 121, 'became': 22, 'december': 41, '2019': 3, 'also': 11}\n"
     ]
    }
   ],
   "source": [
    "# summary \n",
    "print(vectorizer.vocabulary_)\n",
    "# Those are not frequency, they are ID / index for each word\n",
    "\n"
   ]
  },
  {
   "cell_type": "code",
   "execution_count": 67,
   "id": "94d7e5f5",
   "metadata": {},
   "outputs": [],
   "source": [
    "# Vectorize the entire documents\n",
    "vector = vectorizer.transform(tokenized_text)\n"
   ]
  },
  {
   "cell_type": "code",
   "execution_count": 68,
   "id": "0f6de847",
   "metadata": {},
   "outputs": [
    {
     "data": {
      "text/plain": [
       "<8x124 sparse matrix of type '<class 'numpy.int64'>'\n",
       "\twith 172 stored elements in Compressed Sparse Row format>"
      ]
     },
     "execution_count": 68,
     "metadata": {},
     "output_type": "execute_result"
    }
   ],
   "source": [
    "vector"
   ]
  },
  {
   "cell_type": "code",
   "execution_count": 69,
   "id": "dfaac883",
   "metadata": {},
   "outputs": [
    {
     "data": {
      "text/plain": [
       "124"
      ]
     },
     "execution_count": 69,
     "metadata": {},
     "output_type": "execute_result"
    }
   ],
   "source": [
    "len(vectorizer.vocabulary_)"
   ]
  },
  {
   "cell_type": "code",
   "execution_count": 65,
   "id": "a3ca2a41",
   "metadata": {},
   "outputs": [
    {
     "data": {
      "text/plain": [
       "(8, 124)"
      ]
     },
     "execution_count": 65,
     "metadata": {},
     "output_type": "execute_result"
    }
   ],
   "source": [
    "vector.shape\n",
    "# 8 is total number of sentences"
   ]
  },
  {
   "cell_type": "code",
   "execution_count": 70,
   "id": "5ff645ad",
   "metadata": {},
   "outputs": [
    {
     "data": {
      "text/plain": [
       "array([[0, 0, 0, 0, 0, 0, 0, 0, 1, 0, 0, 0, 0, 1, 1, 1, 0, 0, 0, 1, 0, 0,\n",
       "        0, 0, 0, 0, 0, 0, 0, 0, 1, 0, 1, 0, 1, 1, 2, 0, 1, 0, 0, 0, 0, 0,\n",
       "        1, 1, 0, 1, 0, 0, 1, 0, 0, 0, 0, 0, 0, 1, 0, 0, 0, 1, 0, 0, 0, 0,\n",
       "        0, 1, 0, 0, 0, 0, 1, 0, 0, 0, 1, 0, 1, 0, 0, 0, 0, 0, 0, 0, 0, 0,\n",
       "        0, 1, 0, 0, 0, 1, 0, 0, 0, 1, 0, 0, 0, 0, 0, 0, 0, 0, 2, 1, 0, 0,\n",
       "        0, 0, 0, 0, 0, 0, 0, 0, 0, 0, 0, 0, 0, 0],\n",
       "       [0, 0, 0, 0, 0, 0, 0, 1, 0, 0, 0, 0, 0, 0, 0, 2, 0, 0, 1, 1, 1, 0,\n",
       "        0, 1, 0, 1, 0, 0, 0, 0, 0, 1, 0, 0, 1, 0, 0, 0, 0, 0, 1, 0, 1, 1,\n",
       "        0, 0, 0, 0, 0, 0, 0, 1, 0, 2, 0, 0, 0, 1, 0, 0, 0, 0, 1, 1, 0, 0,\n",
       "        0, 0, 1, 0, 0, 2, 0, 0, 2, 0, 0, 1, 0, 0, 0, 0, 0, 0, 0, 1, 0, 0,\n",
       "        0, 0, 1, 0, 0, 0, 0, 0, 0, 0, 0, 0, 0, 0, 0, 0, 0, 1, 0, 0, 4, 0,\n",
       "        0, 2, 0, 0, 1, 0, 0, 0, 0, 0, 0, 0, 0, 2],\n",
       "       [0, 0, 0, 0, 0, 0, 0, 0, 0, 1, 0, 0, 1, 1, 0, 2, 1, 0, 0, 0, 0, 1,\n",
       "        0, 0, 1, 0, 1, 1, 1, 0, 0, 0, 0, 1, 0, 0, 0, 1, 0, 0, 0, 0, 0, 0,\n",
       "        0, 0, 1, 0, 0, 1, 1, 0, 0, 1, 0, 1, 0, 0, 0, 0, 0, 1, 1, 0, 0, 1,\n",
       "        0, 0, 0, 1, 1, 0, 0, 0, 1, 0, 1, 1, 0, 0, 0, 1, 1, 0, 0, 0, 0, 0,\n",
       "        0, 0, 0, 0, 0, 0, 1, 1, 0, 0, 1, 0, 0, 1, 0, 0, 0, 0, 1, 0, 1, 1,\n",
       "        0, 0, 0, 1, 0, 0, 0, 1, 0, 1, 1, 0, 0, 0],\n",
       "       [1, 0, 0, 0, 0, 1, 1, 0, 0, 0, 0, 0, 0, 0, 0, 1, 0, 0, 0, 0, 0, 0,\n",
       "        0, 0, 0, 0, 0, 0, 0, 0, 0, 0, 0, 0, 0, 0, 0, 0, 0, 1, 0, 0, 0, 0,\n",
       "        0, 0, 0, 0, 0, 0, 0, 0, 0, 0, 0, 0, 0, 0, 0, 0, 0, 0, 0, 1, 0, 0,\n",
       "        1, 0, 0, 0, 0, 0, 0, 0, 2, 0, 0, 0, 0, 1, 0, 0, 0, 0, 1, 0, 0, 0,\n",
       "        1, 0, 0, 0, 0, 0, 0, 0, 1, 0, 0, 1, 1, 0, 0, 0, 1, 0, 0, 0, 1, 1,\n",
       "        1, 0, 1, 0, 0, 0, 2, 0, 0, 0, 0, 0, 0, 0],\n",
       "       [0, 1, 0, 0, 0, 0, 0, 0, 0, 0, 0, 0, 0, 0, 1, 0, 0, 0, 0, 0, 0, 0,\n",
       "        0, 0, 0, 0, 0, 0, 0, 0, 0, 0, 0, 0, 1, 0, 0, 0, 0, 0, 0, 0, 0, 0,\n",
       "        0, 0, 0, 0, 0, 0, 0, 0, 0, 1, 0, 0, 1, 0, 0, 0, 1, 0, 0, 0, 0, 0,\n",
       "        0, 0, 0, 0, 0, 0, 0, 0, 0, 1, 0, 0, 0, 0, 0, 0, 0, 0, 0, 0, 0, 2,\n",
       "        0, 0, 0, 0, 0, 0, 0, 0, 0, 0, 0, 0, 0, 0, 0, 0, 0, 0, 0, 0, 1, 0,\n",
       "        0, 0, 0, 0, 0, 1, 0, 0, 1, 0, 0, 0, 0, 0],\n",
       "       [0, 0, 1, 0, 0, 0, 0, 0, 0, 0, 3, 0, 0, 0, 0, 2, 0, 0, 0, 0, 1, 0,\n",
       "        0, 0, 0, 0, 0, 0, 0, 0, 0, 0, 0, 0, 1, 0, 0, 0, 0, 0, 0, 0, 0, 0,\n",
       "        0, 0, 0, 0, 1, 0, 2, 0, 1, 1, 1, 0, 0, 0, 1, 1, 0, 2, 0, 0, 1, 0,\n",
       "        0, 0, 0, 0, 0, 0, 0, 0, 1, 0, 0, 0, 0, 0, 1, 0, 0, 0, 0, 0, 1, 0,\n",
       "        0, 0, 0, 1, 0, 0, 0, 0, 0, 0, 0, 0, 0, 0, 2, 0, 0, 0, 0, 0, 0, 0,\n",
       "        0, 0, 0, 0, 0, 0, 0, 1, 0, 0, 0, 0, 1, 0],\n",
       "       [0, 0, 1, 0, 1, 0, 0, 0, 0, 0, 1, 0, 0, 0, 0, 0, 0, 1, 0, 0, 0, 0,\n",
       "        1, 0, 0, 0, 0, 0, 0, 2, 0, 0, 0, 0, 0, 0, 0, 0, 0, 0, 0, 0, 0, 0,\n",
       "        0, 0, 0, 0, 0, 0, 1, 0, 0, 0, 0, 0, 0, 0, 0, 0, 0, 0, 0, 0, 0, 1,\n",
       "        0, 0, 0, 0, 0, 0, 0, 1, 2, 0, 1, 0, 0, 0, 0, 1, 0, 1, 0, 0, 0, 0,\n",
       "        0, 0, 0, 0, 1, 0, 0, 0, 0, 0, 0, 0, 0, 0, 0, 1, 0, 0, 0, 0, 1, 0,\n",
       "        0, 0, 0, 0, 0, 0, 0, 1, 0, 0, 0, 1, 0, 0],\n",
       "       [0, 0, 0, 1, 0, 0, 0, 0, 0, 0, 1, 1, 0, 0, 0, 0, 0, 0, 0, 0, 0, 0,\n",
       "        1, 0, 0, 0, 0, 0, 0, 1, 0, 0, 0, 0, 0, 0, 0, 0, 0, 0, 0, 1, 0, 0,\n",
       "        0, 0, 0, 0, 0, 0, 0, 0, 0, 0, 0, 0, 0, 0, 0, 0, 0, 0, 0, 0, 0, 0,\n",
       "        0, 0, 0, 0, 0, 0, 0, 0, 1, 0, 1, 0, 0, 0, 0, 0, 0, 1, 0, 0, 0, 0,\n",
       "        0, 0, 0, 0, 0, 0, 0, 0, 0, 0, 0, 0, 0, 0, 0, 0, 0, 0, 0, 0, 1, 0,\n",
       "        0, 0, 0, 0, 0, 0, 0, 0, 0, 0, 0, 0, 0, 0]])"
      ]
     },
     "execution_count": 70,
     "metadata": {},
     "output_type": "execute_result"
    }
   ],
   "source": [
    "vector.toarray()"
   ]
  },
  {
   "cell_type": "code",
   "execution_count": null,
   "id": "f006a5d1",
   "metadata": {},
   "outputs": [],
   "source": []
  }
 ],
 "metadata": {
  "kernelspec": {
   "display_name": "Python 3 (ipykernel)",
   "language": "python",
   "name": "python3"
  },
  "language_info": {
   "codemirror_mode": {
    "name": "ipython",
    "version": 3
   },
   "file_extension": ".py",
   "mimetype": "text/x-python",
   "name": "python",
   "nbconvert_exporter": "python",
   "pygments_lexer": "ipython3",
   "version": "3.9.12"
  }
 },
 "nbformat": 4,
 "nbformat_minor": 5
}
